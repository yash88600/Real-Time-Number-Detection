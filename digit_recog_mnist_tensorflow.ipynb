{
 "cells": [
  {
   "cell_type": "code",
   "execution_count": null,
   "metadata": {},
   "outputs": [],
   "source": [
    "import tensorflow as tf\n",
    "import numpy as np\n",
    "import pandas as pd"
   ]
  },
  {
   "cell_type": "code",
   "execution_count": null,
   "metadata": {},
   "outputs": [],
   "source": [
    "data=pd.read_csv('train.csv')"
   ]
  },
  {
   "cell_type": "code",
   "execution_count": null,
   "metadata": {},
   "outputs": [],
   "source": [
    "x=(data.iloc[:,1:785].T)\n",
    "y_train=data.iloc[:,0]"
   ]
  },
  {
   "cell_type": "code",
   "execution_count": null,
   "metadata": {},
   "outputs": [],
   "source": [
    "range1=(np.array(np.max(x,axis=1)-np.min(x,axis=1)).reshape(784,1))+1\n",
    "avg1=(1/42000)*(np.sum(x,axis=1))\n",
    "avg1=np.array(avg1).reshape(784,1)\n",
    "x_train=(x-np.dot(avg1,np.ones((1,42000))))/np.dot(range1,np.ones((1,42000)))"
   ]
  },
  {
   "cell_type": "code",
   "execution_count": null,
   "metadata": {},
   "outputs": [],
   "source": [
    "tf.reset_default_graph()\n",
    "y_train=tf.one_hot(y_train,10)"
   ]
  },
  {
   "cell_type": "code",
   "execution_count": null,
   "metadata": {},
   "outputs": [],
   "source": [
    "sess=tf.Session()\n",
    "y_train=sess.run(y_train)\n",
    "sess.close()"
   ]
  },
  {
   "cell_type": "code",
   "execution_count": null,
   "metadata": {},
   "outputs": [],
   "source": [
    "y_train=y_train.T\n",
    "x=tf.placeholder(tf.float32,shape=[x_train.shape[0],None])\n",
    "y=tf.placeholder(tf.float32,shape=[y_train.shape[0],None])"
   ]
  },
  {
   "cell_type": "code",
   "execution_count": null,
   "metadata": {},
   "outputs": [],
   "source": [
    "y_train.shape"
   ]
  },
  {
   "cell_type": "code",
   "execution_count": null,
   "metadata": {},
   "outputs": [],
   "source": [
    "thetaBA=tf.get_variable(\"thetaBA\",[150,784],initializer=tf.contrib.layers.xavier_initializer())\n",
    "bBA=tf.get_variable(\"bBA\",[150,1],initializer=tf.zeros_initializer())\n",
    "thetaCB=tf.get_variable(\"thetaCB\",[100,150],initializer=tf.contrib.layers.xavier_initializer())\n",
    "bCB=tf.get_variable(\"bCB\",[100,1],initializer=tf.zeros_initializer())\n",
    "thetaDC=tf.get_variable(\"thetaDC\",[10,100],initializer=tf.contrib.layers.xavier_initializer())\n",
    "bDC=tf.get_variable(\"bDC\",[10,1],initializer=tf.zeros_initializer())"
   ]
  },
  {
   "cell_type": "code",
   "execution_count": null,
   "metadata": {},
   "outputs": [],
   "source": [
    "blayer=tf.add(tf.matmul(thetaBA,x) ,bBA)\n",
    "blayer=tf.nn.relu(blayer)\n",
    "clayer=tf.add(tf.matmul(thetaCB,blayer) , bCB)\n",
    "clayer=tf.nn.relu(clayer)\n",
    "dlayer=tf.add(tf.matmul(thetaDC,clayer) , bDC)\n"
   ]
  },
  {
   "cell_type": "code",
   "execution_count": null,
   "metadata": {},
   "outputs": [],
   "source": [
    "logits1=tf.transpose(dlayer)\n",
    "labels1=tf.transpose(y)\n",
    "cost=tf.reduce_mean(tf.nn.softmax_cross_entropy_with_logits_v2(logits=logits1,labels=labels1))"
   ]
  },
  {
   "cell_type": "code",
   "execution_count": null,
   "metadata": {},
   "outputs": [],
   "source": [
    "optimizer=tf.train.AdamOptimizer(learning_rate=0.001).minimize(cost)"
   ]
  },
  {
   "cell_type": "code",
   "execution_count": null,
   "metadata": {},
   "outputs": [],
   "source": [
    "init=tf.global_variables_initializer()\n",
    "sess=tf.Session()\n",
    "sess.run(init)\n",
    "for i in range(1,400):\n",
    "    train_data=sess.run(optimizer,feed_dict={x:x_train,y:y_train})\n",
    "    cost1= sess.run(cost,feed_dict={x:x_train,y:y_train})\n",
    "    print(cost1,end=\" \")\n",
    "    print(i,end=\" \")\n",
    "sess.close()\n",
    "    "
   ]
  },
  {
   "cell_type": "code",
   "execution_count": null,
   "metadata": {},
   "outputs": [],
   "source": [
    "vid=cv2.VideoCapture(0)\n",
    "vid.set(3, 280)\n",
    "vid.set(4, 280)\n",
    "\n",
    "while True:\n",
    "    \n",
    "    check,frame=vid.read()\n",
    "    gray=cv2.cvtColor(frame,cv2.COLOR_BGR2GRAY)\n",
    "    a1=rescale_frame(gray,percent=10)\n",
    "    a=cv2.resize(a1,(28,28))\n",
    "    a=np.reshape(a,(784,1))\n",
    "    a=(a-avg1)/(range1)\n",
    "    abc=sess.run(dlayer,feed_dict={x:a})\n",
    "    abc=np.array(abc.argmax(axis=0))\n",
    "\n",
    "    print(abc,end=\"\")\n",
    "    cv2.imshow(\"a\",frame)\n",
    "    key=cv2.waitKey(10)\n",
    "    if (key==ord('q')):\n",
    "        break;\n",
    "\n",
    "vid.release()\n",
    "cv2.destroyAllWindows()\n"
   ]
  },
  {
   "cell_type": "code",
   "execution_count": null,
   "metadata": {},
   "outputs": [],
   "source": [
    "def rescale_frame(frame, percent=75):\n",
    "    width = int(frame.shape[1] * percent/ 100)\n",
    "    height = int(frame.shape[0] * percent/ 100)\n",
    "    dim = (width, height)\n",
    "    return cv2.resize(frame, dim, interpolation =cv2.INTER_AREA)q"
   ]
  }
 ],
 "metadata": {
  "kernelspec": {
   "display_name": "Python 3",
   "language": "python",
   "name": "python3"
  },
  "language_info": {
   "codemirror_mode": {
    "name": "ipython",
    "version": 3
   },
   "file_extension": ".py",
   "mimetype": "text/x-python",
   "name": "python",
   "nbconvert_exporter": "python",
   "pygments_lexer": "ipython3",
   "version": "3.7.4"
  }
 },
 "nbformat": 4,
 "nbformat_minor": 2
}
